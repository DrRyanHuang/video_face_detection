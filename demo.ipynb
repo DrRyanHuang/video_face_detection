{
 "cells": [
  {
   "cell_type": "markdown",
   "metadata": {
    "collapsed": false
   },
   "source": [
    "<font face=楷体 size=6><b>黑人抬棺人脸检测:</b>\n",
    "\n",
    "<font face=楷体 size=5><b>背景:</b>\n",
    "  \n",
    "<font face=楷体 size=3>黑人抬棺这么火，怎么能不用paddlehub试一试呢？\n",
    "<br>\n",
    "<font face=楷体 size=3>临近期末，准备考试，还要准备考研，555，明明有好点子，但是没时间做，先出一个黑人抬棺的视频8\n",
    "  \n",
    "<font face=楷体 size=5><b>结果:</b>\n",
    "  \n",
    "<font face=楷体 size=3>在我的B站上: <a href=https://www.bilibili.com/video/BV1Sk4y1r7Zz>https://www.bilibili.com/video/BV1Sk4y1r7Zz</a>\n",
    "  \n",
    "<font face=楷体 size=5><b>思路和步骤:</b>\n",
    "  \n",
    "<font face=楷体 size=3>思路嘛，再简单不过，一帧一帧拆分，一帧一帧人脸检测\n",
    "<font face=楷体 size=3>步骤嘛，人脸检测 + ffmpeg拆分合并\n",
    "  \n",
    "<font face=楷体 size=5><b>总结:</b><br>\n",
    "<font face=楷体 size=3>paddlehub蛮好用的，改日有时间定要搞一番事业<br>\n",
    "<font face=楷体 size=3>时间太少了，考研党伤不起啊啊啊"
   ]
  },
  {
   "cell_type": "code",
   "execution_count": 1,
   "metadata": {
    "collapsed": false
   },
   "outputs": [
    {
     "data": {
      "text/html": [
       "<iframe style=\"width:98%;height: 450px;\" src=\"//player.bilibili.com/player.html?bvid=BV1Sk4y1r7Zz\" scrolling=\"no\" border=\"0\" frameborder=\"no\" framespacing=\"0\" allowfullscreen=\"true\"> </iframe>"
      ],
      "text/plain": [
       "<IPython.core.display.HTML object>"
      ]
     },
     "execution_count": 1,
     "metadata": {},
     "output_type": "execute_result"
    }
   ],
   "source": [
    "from IPython.display import HTML\n",
    "HTML('<iframe style=\"width:98%;height: 450px;\" src=\"//player.bilibili.com/player.html?bvid=BV1Sk4y1r7Zz\" scrolling=\"no\" border=\"0\" frameborder=\"no\" framespacing=\"0\" allowfullscreen=\"true\"> </iframe>')"
   ]
  },
  {
   "cell_type": "code",
   "execution_count": 2,
   "metadata": {
    "collapsed": false
   },
   "outputs": [
    {
     "name": "stdout",
     "output_type": "stream",
     "text": [
      "env: CUDA_VISIBLE_DEVICES=0\n"
     ]
    }
   ],
   "source": [
    "# ---------------------------------------------------------------------------\r\n",
    "# 为使用 `GPU` 设置环境变量 , (仍然报错, 已在github上提交issue——目前已解决)\r\n",
    "# ---------------------------------------------------------------------------\r\n",
    "%set_env CUDA_VISIBLE_DEVICES = 0"
   ]
  },
  {
   "cell_type": "code",
   "execution_count": 3,
   "metadata": {
    "collapsed": false
   },
   "outputs": [
    {
     "name": "stdout",
     "output_type": "stream",
     "text": [
      "Looking in indexes: https://pypi.tuna.tsinghua.edu.cn/simple\n",
      "Requirement already satisfied: moviepy in /opt/conda/envs/python35-paddle120-env/lib/python3.7/site-packages (1.0.1)\n",
      "Requirement already satisfied: decorator<5.0,>=4.0.2 in /opt/conda/envs/python35-paddle120-env/lib/python3.7/site-packages (from moviepy) (4.4.0)\n",
      "Requirement already satisfied: numpy in /opt/conda/envs/python35-paddle120-env/lib/python3.7/site-packages (from moviepy) (1.16.4)\n",
      "Requirement already satisfied: tqdm<5.0,>=4.11.2 in /opt/conda/envs/python35-paddle120-env/lib/python3.7/site-packages (from moviepy) (4.36.1)\n",
      "Requirement already satisfied: requests<3.0,>=2.8.1 in /opt/conda/envs/python35-paddle120-env/lib/python3.7/site-packages (from moviepy) (2.22.0)\n",
      "Requirement already satisfied: proglog<=1.0.0 in /opt/conda/envs/python35-paddle120-env/lib/python3.7/site-packages (from moviepy) (0.1.9)\n",
      "Requirement already satisfied: imageio-ffmpeg>=0.2.0; python_version >= \"3.4\" in /opt/conda/envs/python35-paddle120-env/lib/python3.7/site-packages (from moviepy) (0.3.0)\n",
      "Requirement already satisfied: imageio<3.0,>=2.5; python_version >= \"3.4\" in /opt/conda/envs/python35-paddle120-env/lib/python3.7/site-packages (from moviepy) (2.6.1)\n",
      "Requirement already satisfied: chardet<3.1.0,>=3.0.2 in /opt/conda/envs/python35-paddle120-env/lib/python3.7/site-packages (from requests<3.0,>=2.8.1->moviepy) (3.0.4)\n",
      "Requirement already satisfied: idna<2.9,>=2.5 in /opt/conda/envs/python35-paddle120-env/lib/python3.7/site-packages (from requests<3.0,>=2.8.1->moviepy) (2.8)\n",
      "Requirement already satisfied: certifi>=2017.4.17 in /opt/conda/envs/python35-paddle120-env/lib/python3.7/site-packages (from requests<3.0,>=2.8.1->moviepy) (2019.9.11)\n",
      "Requirement already satisfied: urllib3!=1.25.0,!=1.25.1,<1.26,>=1.21.1 in /opt/conda/envs/python35-paddle120-env/lib/python3.7/site-packages (from requests<3.0,>=2.8.1->moviepy) (1.25.6)\n",
      "Requirement already satisfied: pillow in /opt/conda/envs/python35-paddle120-env/lib/python3.7/site-packages (from imageio<3.0,>=2.5; python_version >= \"3.4\"->moviepy) (6.2.0)\n",
      "Looking in indexes: https://pypi.mirrors.ustc.edu.cn/simple/\n",
      "Requirement already satisfied: ffmpeg in /opt/conda/envs/python35-paddle120-env/lib/python3.7/site-packages (1.4)\n"
     ]
    }
   ],
   "source": [
    "# ---------------------------------------------------------------------------\r\n",
    "# 安装视频处理环境\r\n",
    "# ---------------------------------------------------------------------------\r\n",
    "!pip install moviepy -i https://pypi.tuna.tsinghua.edu.cn/simple\r\n",
    "!pip install ffmpeg"
   ]
  },
  {
   "cell_type": "code",
   "execution_count": 4,
   "metadata": {
    "collapsed": false
   },
   "outputs": [
    {
     "name": "stderr",
     "output_type": "stream",
     "text": [
      "\u001b[32m[2020-05-07 14:22:40,518] [    INFO] - Installing ultra_light_fast_generic_face_detector_1mb_640 module\u001b[0m\n",
      "\u001b[32m[2020-05-07 14:22:40,527] [    INFO] - Module ultra_light_fast_generic_face_detector_1mb_640 already installed in /home/aistudio/.paddlehub/modules/ultra_light_fast_generic_face_detector_1mb_640\u001b[0m\n"
     ]
    }
   ],
   "source": [
    "# ---------------------------------------------------------------------------\r\n",
    "# 安装paddlehub环境和下载模型\r\n",
    "# ---------------------------------------------------------------------------\r\n",
    "\r\n",
    "try:\r\n",
    "    import paddlehub as hub\r\n",
    "\r\n",
    "except ImportError:\r\n",
    "    !pip install paddlehub==1.6.0 -i https://pypi.tuna.tsinghua.edu.cn/simple\r\n",
    "    import paddlehub as hub\r\n",
    "\r\n",
    "try:\r\n",
    "    module = hub.Module(name=\"ultra_light_fast_generic_face_detector_1mb_640\")\r\n",
    "    # module = hub.Moudle(name=\"ultra_light_fast_generic_face_detector_1mb_320\")\r\n",
    "except FileNotFoundError:\r\n",
    "    !hub install ultra_light_fast_generic_face_detector_1mb_640==1.1.2\r\n",
    "    module = hub.Module(name=\"ultra_light_fast_generic_face_detector_1mb_640\")\r\n",
    "    # module = hub.Moudle(name=\"ultra_light_fast_generic_face_detector_1mb_320\")"
   ]
  },
  {
   "cell_type": "markdown",
   "metadata": {
    "collapsed": false
   },
   "source": [
    "注:\n",
    "Ultra-Light-Fast-Generic-Face-Detector-1MB提供了两种预训练模型，ultra_light_fast_generic_face_detector_1mb_320和ultra_light_fast_generic_face_detector_1mb_640。\n",
    "\n",
    "- ultra_light_fast_generic_face_detector_1mb_320，在预测时会将图片输入缩放为320 * 240，预测速度更快。关于该模型更多介绍， 查看[PaddleHub官网介绍](https://www.paddlepaddle.org.cn/hubdetail?name=ultra_light_fast_generic_face_detector_1mb_320&en_category=ObjectDetection)\n",
    "- ultra_light_fast_generic_face_detector_1mb_640，在预测时会将图片输入缩放为640 * 480，预测精度更高。关于该模型更多介绍， 查看[PaddleHub官网介绍](https://www.paddlepaddle.org.cn/hubdetail?name=ultra_light_fast_generic_face_detector_1mb_640&en_category=ObjectDetection)\n",
    "\n",
    "用户根据需要，选择具体模型。利用PaddleHub使用该模型时，只需更改指定name，即可实现无缝切换。"
   ]
  },
  {
   "cell_type": "code",
   "execution_count": 5,
   "metadata": {
    "collapsed": false
   },
   "outputs": [
    {
     "name": "stdout",
     "output_type": "stream",
     "text": [
      "视频的宽度:852.0\n",
      "视频的高度:480.0\n",
      "视频帧率:30.06896551724138\n",
      "视频的总帧数:1330.0\n"
     ]
    }
   ],
   "source": [
    "# ---------------------------------------------------------------------------\r\n",
    "# 查看黑人抬棺视频的基本信息\r\n",
    "# ---------------------------------------------------------------------------\r\n",
    "import os\r\n",
    "import cv2\r\n",
    "import json\r\n",
    "import numpy as np\r\n",
    "import matplotlib.image as mpimg\r\n",
    "import matplotlib.pyplot as plt\r\n",
    "from tqdm import tqdm\r\n",
    "\r\n",
    "video = cv2.VideoCapture(\"video.flv\")\r\n",
    "\r\n",
    "fps = video.get(cv2.CAP_PROP_FPS)                # 视频帧率\r\n",
    "frameCount = video.get(cv2.CAP_PROP_FRAME_COUNT) # 获得视频的总帧数\r\n",
    "width = video.get(cv2.CAP_PROP_FRAME_WIDTH)      # 获得视频的宽度\r\n",
    "height = video.get(cv2.CAP_PROP_FRAME_HEIGHT)    # 获得视频的高度\r\n",
    "\r\n",
    "print('视频的宽度:{}'.format(width))\r\n",
    "print('视频的高度:{}'.format(height))\r\n",
    "print('视频帧率:{}'.format(fps))\r\n",
    "print('视频的总帧数:{}'.format(frameCount))"
   ]
  },
  {
   "cell_type": "code",
   "execution_count": 6,
   "metadata": {
    "collapsed": false
   },
   "outputs": [
    {
     "data": {
      "text/plain": [
       "'4.1.1'"
      ]
     },
     "execution_count": 6,
     "metadata": {},
     "output_type": "execute_result"
    }
   ],
   "source": [
    "cv2.__version__"
   ]
  },
  {
   "cell_type": "code",
   "execution_count": 7,
   "metadata": {
    "collapsed": false
   },
   "outputs": [
    {
     "name": "stdout",
     "output_type": "stream",
     "text": [
      "完毕\n"
     ]
    }
   ],
   "source": [
    "# ---------------------------------------------------------------------------\r\n",
    "# 将视频数据变为帧数据, 并且保存\r\n",
    "# ---------------------------------------------------------------------------\r\n",
    "if not os.path.exists('frame'):\r\n",
    "    os.mkdir('frame')\r\n",
    "\r\n",
    "all_img = []\r\n",
    "all_img_path_dict = {'image':[]}\r\n",
    "\r\n",
    "success, frame = video.read()\r\n",
    "i = 0\r\n",
    "while success:\r\n",
    "    \r\n",
    "    all_img.append(frame)\r\n",
    "    i += 1\r\n",
    "    # if not i % 10:print(i)\r\n",
    "    success, frame = video.read()\r\n",
    "\r\n",
    "    path = os.path.join('frame', str(i)+'.jpg')\r\n",
    "    all_img_path_dict['image'].append(path)\r\n",
    "    cv2.imwrite(path, frame)\r\n",
    "\r\n",
    "all_img_path_dict['image'].pop()\r\n",
    "print('完毕')"
   ]
  },
  {
   "cell_type": "code",
   "execution_count": 8,
   "metadata": {
    "collapsed": false
   },
   "outputs": [
    {
     "name": "stderr",
     "output_type": "stream",
     "text": [
      "\u001b[32m[2020-05-07 14:22:56,227] [    INFO] - 0 pretrained paramaters loaded by PaddleHub\u001b[0m\n"
     ]
    },
    {
     "name": "stdout",
     "output_type": "stream",
     "text": [
      "The image with bbox is saved as face_detector_640_predict_output/1323.jpg\r"
     ]
    }
   ],
   "source": [
    "# ---------------------------------------------------------------------------\n",
    "# 预测并打印输出(或者找到已经保存的文件)\n",
    "# ---------------------------------------------------------------------------\n",
    "\n",
    "# 读取视频所保存的信息文件\n",
    "info_path = 'info.json'\n",
    "\n",
    "# hub版本更新后, 其检测精度浮点数太飘了, 这里赶时间, 就暂时不写了(准备期末考试ing...)\n",
    "# if os.path.exists(info_path):\n",
    "\n",
    "    # # 读取已经保存的`json`数据\n",
    "    # with open(info_path, 'r') as f:\n",
    "    #     json_dict = json.load(f)\n",
    "    # results = json_dict['data']\n",
    "if False:\n",
    "    pass\n",
    "\n",
    "else: # 若没有找到`json`数据\n",
    "\n",
    "    # PaddleHub对于支持一键预测的module，可以调用module的相应预测API，完成预测功能。\n",
    "    results = module.face_detection(data=all_img_path_dict,\n",
    "                                    use_gpu=True,\n",
    "                                    visualization=True)\n",
    "    # save_json = {'data':results}\n",
    "    # with open(info_path, 'w') as f:\n",
    "    #     f.write(json.dumps(save_json))\n"
   ]
  },
  {
   "cell_type": "code",
   "execution_count": 9,
   "metadata": {
    "collapsed": false
   },
   "outputs": [
    {
     "name": "stderr",
     "output_type": "stream",
     "text": [
      "1323it [01:09, 19.03it/s]\n"
     ]
    }
   ],
   "source": [
    "# ---------------------------------------------------------------------------\r\n",
    "# 输出制作视频文件的备用文件\r\n",
    "# ---------------------------------------------------------------------------\r\n",
    "\r\n",
    "# 输出视频的size\r\n",
    "size = (int(width), int(height))\r\n",
    "size = (int(height), int(width))\r\n",
    "# 创建写视频对象(不好用)\r\n",
    "# videoWriter = cv2.VideoWriter(\"a.avi\", cv2.VideoWriter_fourcc('M','J','P','G'), fps, size) \r\n",
    "\r\n",
    "for i, info in tqdm(enumerate(results)):\r\n",
    "    \r\n",
    "    num_info = info['data']\r\n",
    "\r\n",
    "    if not len(num_info):\r\n",
    "        # 如果该画面没有人, 则 `frame`变量赋值为原来的图片\r\n",
    "        frame = all_img[i].copy()[:,:, ::-1]\r\n",
    "    else:\r\n",
    "        # frame = mpimg.imread(info['save_path'])   # 之前的save_path现在没了......\r\n",
    "        frame = mpimg.imread(info['path'].replace('frame', 'face_detector_640_predict_output'))\r\n",
    "    \r\n",
    "    cv2.putText(frame, 'fps: {:.2f}'.format(fps), (20, 370), cv2.FONT_HERSHEY_SIMPLEX, 0.8, (255, 0 ,255), 2)\r\n",
    "    cv2.putText(frame, 'count: ' + str(len(num_info)), (20, 400), cv2.FONT_HERSHEY_SIMPLEX, 0.8, (255, 0 ,255), 2)\r\n",
    "    cv2.putText(frame, 'frame: ' + str(i), (20, 430), cv2.FONT_HERSHEY_SIMPLEX, 0.8, (255, 0 ,255), 2)\r\n",
    "    # cv2.putText(frame, 'time: {:.2f}s'.format(i / fps), (20,460), cv2.FONT_HERSHEY_SIMPLEX, 0.8, (255,0,255), 2)\r\n",
    "    \r\n",
    "    plt.imsave('./img_out/{}.jpg'.format(i), frame)\r\n"
   ]
  },
  {
   "cell_type": "code",
   "execution_count": 10,
   "metadata": {
    "collapsed": false
   },
   "outputs": [
    {
     "name": "stdout",
     "output_type": "stream",
     "text": [
      "ffmpeg version 2.8.15-0ubuntu0.16.04.1 Copyright (c) 2000-2018 the FFmpeg developers\n",
      "  built with gcc 5.4.0 (Ubuntu 5.4.0-6ubuntu1~16.04.10) 20160609\n",
      "  configuration: --prefix=/usr --extra-version=0ubuntu0.16.04.1 --build-suffix=-ffmpeg --toolchain=hardened --libdir=/usr/lib/x86_64-linux-gnu --incdir=/usr/include/x86_64-linux-gnu --cc=cc --cxx=g++ --enable-gpl --enable-shared --disable-stripping --disable-decoder=libopenjpeg --disable-decoder=libschroedinger --enable-avresample --enable-avisynth --enable-gnutls --enable-ladspa --enable-libass --enable-libbluray --enable-libbs2b --enable-libcaca --enable-libcdio --enable-libflite --enable-libfontconfig --enable-libfreetype --enable-libfribidi --enable-libgme --enable-libgsm --enable-libmodplug --enable-libmp3lame --enable-libopenjpeg --enable-libopus --enable-libpulse --enable-librtmp --enable-libschroedinger --enable-libshine --enable-libsnappy --enable-libsoxr --enable-libspeex --enable-libssh --enable-libtheora --enable-libtwolame --enable-libvorbis --enable-libvpx --enable-libwavpack --enable-libwebp --enable-libx265 --enable-libxvid --enable-libzvbi --enable-openal --enable-opengl --enable-x11grab --enable-libdc1394 --enable-libiec61883 --enable-libzmq --enable-frei0r --enable-libx264 --enable-libopencv\n",
      "  libavutil      54. 31.100 / 54. 31.100\n",
      "  libavcodec     56. 60.100 / 56. 60.100\n",
      "  libavformat    56. 40.101 / 56. 40.101\n",
      "  libavdevice    56.  4.100 / 56.  4.100\n",
      "  libavfilter     5. 40.101 /  5. 40.101\n",
      "  libavresample   2.  1.  0 /  2.  1.  0\n",
      "  libswscale      3.  1.101 /  3.  1.101\n",
      "  libswresample   1.  2.101 /  1.  2.101\n",
      "  libpostproc    53.  3.100 / 53.  3.100\n",
      "\u001b[0;36m[mjpeg @ 0x1c2b720] \u001b[0mChangeing bps to 8\n",
      "Input #0, image2, from 'img_out/%d.jpg':\n",
      "  Duration: 00:00:52.96, start: 0.000000, bitrate: N/A\n",
      "    Stream #0:0: Video: mjpeg, yuvj420p(pc, bt470bg/unknown/unknown), 852x480 [SAR 100:100 DAR 71:40], 25 fps, 25 tbr, 25 tbn, 25 tbc\n",
      "\u001b[0;33mNo pixel format specified, yuvj420p for H.264 encoding chosen.\n",
      "Use -pix_fmt yuv420p for compatibility with outdated media players.\n",
      "\u001b[0m\u001b[1;36m[libx264 @ 0x1c2d3e0] \u001b[0musing SAR=1/1\n",
      "\u001b[1;36m[libx264 @ 0x1c2d3e0] \u001b[0musing cpu capabilities: MMX2 SSE2Fast SSSE3 SSE4.2 AVX FMA3 AVX2 LZCNT BMI2\n",
      "\u001b[1;36m[libx264 @ 0x1c2d3e0] \u001b[0mprofile High, level 3.1\n",
      "\u001b[1;36m[libx264 @ 0x1c2d3e0] \u001b[0m264 - core 148 r2643 5c65704 - H.264/MPEG-4 AVC codec - Copyleft 2003-2015 - http://www.videolan.org/x264.html - options: cabac=1 ref=3 deblock=1:0:0 analyse=0x3:0x113 me=hex subme=7 psy=1 psy_rd=1.00:0.00 mixed_ref=1 me_range=16 chroma_me=1 trellis=1 8x8dct=1 cqm=0 deadzone=21,11 fast_pskip=1 chroma_qp_offset=-2 threads=15 lookahead_threads=2 sliced_threads=0 nr=0 decimate=1 interlaced=0 bluray_compat=0 constrained_intra=0 bframes=3 b_pyramid=2 b_adapt=1 b_bias=0 direct=1 weightb=1 open_gop=0 weightp=2 keyint=250 keyint_min=25 scenecut=40 intra_refresh=0 rc_lookahead=40 rc=crf mbtree=1 crf=23.0 qcomp=0.60 qpmin=0 qpmax=69 qpstep=4 ip_ratio=1.40 aq=1:1.00\n",
      "Output #0, mp4, to 'temp.mp4':\n",
      "  Metadata:\n",
      "    encoder         : Lavf56.40.101\n",
      "    Stream #0:0: Video: h264 (libx264) ([33][0][0][0] / 0x0021), yuvj420p(pc), 852x480 [SAR 100:100 DAR 71:40], q=-1--1, 60 fps, 15360 tbn, 60 tbc\n",
      "    Metadata:\n",
      "      encoder         : Lavc56.60.100 libx264\n",
      "Stream mapping:\n",
      "  Stream #0:0 -> #0:0 (mjpeg (native) -> h264 (libx264))\n",
      "Press [q] to stop, [?] for help\n",
      "frame= 3177 fps=239 q=-1.0 Lsize=    7810kB time=00:00:52.91 bitrate=1209.0kbits/s dup=1853 drop=0    \n",
      "video:7776kB audio:0kB subtitle:0kB other streams:0kB global headers:0kB muxing overhead: 0.431069%\n",
      "\u001b[1;36m[libx264 @ 0x1c2d3e0] \u001b[0mframe I:16    Avg QP:22.93  size: 28273\n",
      "\u001b[1;36m[libx264 @ 0x1c2d3e0] \u001b[0mframe P:1725  Avg QP:25.68  size:  4284\n",
      "\u001b[1;36m[libx264 @ 0x1c2d3e0] \u001b[0mframe B:1436  Avg QP:34.57  size:    84\n",
      "\u001b[1;36m[libx264 @ 0x1c2d3e0] \u001b[0mconsecutive B-frames: 35.6%  8.8% 11.0% 44.6%\n",
      "\u001b[1;36m[libx264 @ 0x1c2d3e0] \u001b[0mmb I  I16..4: 15.4% 63.4% 21.2%\n",
      "\u001b[1;36m[libx264 @ 0x1c2d3e0] \u001b[0mmb P  I16..4:  1.5%  4.2%  0.9%  P16..4: 21.0%  8.7%  3.8%  0.0%  0.0%    skip:60.0%\n",
      "\u001b[1;36m[libx264 @ 0x1c2d3e0] \u001b[0mmb B  I16..4:  0.0%  0.0%  0.0%  B16..8:  4.1%  0.0%  0.0%  direct: 0.0%  skip:95.9%  L0:48.6% L1:50.5% BI: 0.9%\n",
      "\u001b[1;36m[libx264 @ 0x1c2d3e0] \u001b[0m8x8 transform intra:63.4% inter:70.0%\n",
      "\u001b[1;36m[libx264 @ 0x1c2d3e0] \u001b[0mcoded y,uvDC,uvAC intra: 54.5% 57.4% 11.5% inter: 6.1% 5.4% 0.7%\n",
      "\u001b[1;36m[libx264 @ 0x1c2d3e0] \u001b[0mi16 v,h,dc,p: 23% 35%  6% 36%\n",
      "\u001b[1;36m[libx264 @ 0x1c2d3e0] \u001b[0mi8 v,h,dc,ddl,ddr,vr,hd,vl,hu: 21% 24% 16%  5%  6%  7%  7%  7%  7%\n",
      "\u001b[1;36m[libx264 @ 0x1c2d3e0] \u001b[0mi4 v,h,dc,ddl,ddr,vr,hd,vl,hu: 30% 21% 14%  4%  7%  7%  7%  5%  5%\n",
      "\u001b[1;36m[libx264 @ 0x1c2d3e0] \u001b[0mi8c dc,h,v,p: 54% 21% 20%  5%\n",
      "\u001b[1;36m[libx264 @ 0x1c2d3e0] \u001b[0mWeighted P-Frames: Y:1.0% UV:0.7%\n",
      "\u001b[1;36m[libx264 @ 0x1c2d3e0] \u001b[0mref P L0: 71.4% 17.5%  7.2%  3.9%  0.1%\n",
      "\u001b[1;36m[libx264 @ 0x1c2d3e0] \u001b[0mref B L0: 89.8%  9.3%  1.0%\n",
      "\u001b[1;36m[libx264 @ 0x1c2d3e0] \u001b[0mref B L1: 96.8%  3.2%\n",
      "\u001b[1;36m[libx264 @ 0x1c2d3e0] \u001b[0mkb/s:1202.99\n"
     ]
    }
   ],
   "source": [
    "# ---------------------------------------------------------------------------\r\n",
    "# 输出视频文件(没加配乐, 没有灵魂)(找了一堆python工具, 不如ffmpeg好用)\r\n",
    "# ---------------------------------------------------------------------------\r\n",
    "if os.path.exists('temp.mp4'):\r\n",
    "    !rm -f temp.mp4\r\n",
    "!ffmpeg -f image2 -i img_out/%d.jpg  -vcodec libx264 -r 60.0  temp.mp4"
   ]
  },
  {
   "cell_type": "code",
   "execution_count": 11,
   "metadata": {
    "collapsed": false
   },
   "outputs": [
    {
     "name": "stdout",
     "output_type": "stream",
     "text": [
      "ffmpeg version 2.8.15-0ubuntu0.16.04.1 Copyright (c) 2000-2018 the FFmpeg developers\n",
      "  built with gcc 5.4.0 (Ubuntu 5.4.0-6ubuntu1~16.04.10) 20160609\n",
      "  configuration: --prefix=/usr --extra-version=0ubuntu0.16.04.1 --build-suffix=-ffmpeg --toolchain=hardened --libdir=/usr/lib/x86_64-linux-gnu --incdir=/usr/include/x86_64-linux-gnu --cc=cc --cxx=g++ --enable-gpl --enable-shared --disable-stripping --disable-decoder=libopenjpeg --disable-decoder=libschroedinger --enable-avresample --enable-avisynth --enable-gnutls --enable-ladspa --enable-libass --enable-libbluray --enable-libbs2b --enable-libcaca --enable-libcdio --enable-libflite --enable-libfontconfig --enable-libfreetype --enable-libfribidi --enable-libgme --enable-libgsm --enable-libmodplug --enable-libmp3lame --enable-libopenjpeg --enable-libopus --enable-libpulse --enable-librtmp --enable-libschroedinger --enable-libshine --enable-libsnappy --enable-libsoxr --enable-libspeex --enable-libssh --enable-libtheora --enable-libtwolame --enable-libvorbis --enable-libvpx --enable-libwavpack --enable-libwebp --enable-libx265 --enable-libxvid --enable-libzvbi --enable-openal --enable-opengl --enable-x11grab --enable-libdc1394 --enable-libiec61883 --enable-libzmq --enable-frei0r --enable-libx264 --enable-libopencv\n",
      "  libavutil      54. 31.100 / 54. 31.100\n",
      "  libavcodec     56. 60.100 / 56. 60.100\n",
      "  libavformat    56. 40.101 / 56. 40.101\n",
      "  libavdevice    56.  4.100 / 56.  4.100\n",
      "  libavfilter     5. 40.101 /  5. 40.101\n",
      "  libavresample   2.  1.  0 /  2.  1.  0\n",
      "  libswscale      3.  1.101 /  3.  1.101\n",
      "  libswresample   1.  2.101 /  1.  2.101\n",
      "  libpostproc    53.  3.100 / 53.  3.100\n",
      "Input #0, flv, from 'video.flv':\n",
      "  Metadata:\n",
      "    description     : Codec by Bilibili XCode Worker v4.8.74(fixed_gap:False)\n",
      "    metadatacreator : Version 1.9\n",
      "    hasKeyframes    : true\n",
      "    hasVideo        : true\n",
      "    hasAudio        : true\n",
      "    hasMetadata     : true\n",
      "    canSeekToEnd    : true\n",
      "    datasize        : 5630178\n",
      "    videosize       : 4884547\n",
      "    audiosize       : 732715\n",
      "    lasttimestamp   : 44\n",
      "    lastkeyframetimestamp: 44\n",
      "    lastkeyframelocation: 5631018\n",
      "  Duration: 00:00:44.24, start: 0.067000, bitrate: 1018 kb/s\n",
      "    Stream #0:0: Video: h264 (High), yuv420p, 852x480 [SAR 640:639 DAR 16:9], 883 kb/s, 30.30 fps, 30 tbr, 1k tbn, 60 tbc\n",
      "    Stream #0:1: Audio: aac (LC), 44100 Hz, stereo, fltp, 128 kb/s\n",
      "Output #0, mp3, to 'nb.mp3':\n",
      "  Metadata:\n",
      "    description     : Codec by Bilibili XCode Worker v4.8.74(fixed_gap:False)\n",
      "    metadatacreator : Version 1.9\n",
      "    hasKeyframes    : true\n",
      "    hasVideo        : true\n",
      "    hasAudio        : true\n",
      "    hasMetadata     : true\n",
      "    canSeekToEnd    : true\n",
      "    datasize        : 5630178\n",
      "    videosize       : 4884547\n",
      "    audiosize       : 732715\n",
      "    lasttimestamp   : 44\n",
      "    lastkeyframetimestamp: 44\n",
      "    lastkeyframelocation: 5631018\n",
      "    TSSE            : Lavf56.40.101\n",
      "    Stream #0:0: Audio: mp3 (libmp3lame), 44100 Hz, stereo, fltp\n",
      "    Metadata:\n",
      "      encoder         : Lavc56.60.100 libmp3lame\n",
      "Stream mapping:\n",
      "  Stream #0:1 -> #0:0 (aac (native) -> mp3 (libmp3lame))\n",
      "Press [q] to stop, [?] for help\n",
      "size=     691kB time=00:00:44.20 bitrate= 128.1kbits/s    \n",
      "video:0kB audio:691kB subtitle:0kB other streams:0kB global headers:0kB muxing overhead: 0.098418%\n"
     ]
    }
   ],
   "source": [
    "# ---------------------------------------------------------------------------\r\n",
    "# 抽离源文件配乐\r\n",
    "# ---------------------------------------------------------------------------\r\n",
    "if os.path.exists('nb.mp3'):\r\n",
    "    !rm -f nb.mp3\r\n",
    "!ffmpeg -i video.flv -f mp3 nb.mp3"
   ]
  },
  {
   "cell_type": "code",
   "execution_count": 12,
   "metadata": {
    "collapsed": false
   },
   "outputs": [],
   "source": [
    "# ---------------------------------------------------------------------------\r\n",
    "# 音乐视频合成(由于需要调整视频速度, 使音频和视频时间一样, 命令行不太好调整, 我将合成放在了本地端)\r\n",
    "# ---------------------------------------------------------------------------\r\n",
    "\r\n",
    "# # 去掉temp视频音轨\r\n",
    "# !ffmpeg -i temp.mp4 -c:v copy -an temp_new.mp4 \r\n",
    "# # 给视频加背景音乐\r\n",
    "# !ffmpeg -i temp_new.mp4 -i nb.mp3 -t 52 -y last.mp4"
   ]
  },
  {
   "cell_type": "code",
   "execution_count": null,
   "metadata": {
    "collapsed": false
   },
   "outputs": [],
   "source": []
  }
 ],
 "metadata": {
  "kernelspec": {
   "display_name": "PaddlePaddle 1.7.0 (Python 3.5)",
   "language": "python",
   "name": "py35-paddle1.2.0"
  },
  "language_info": {
   "codemirror_mode": {
    "name": "ipython",
    "version": 3
   },
   "file_extension": ".py",
   "mimetype": "text/x-python",
   "name": "python",
   "nbconvert_exporter": "python",
   "pygments_lexer": "ipython3",
   "version": "3.7.4"
  }
 },
 "nbformat": 4,
 "nbformat_minor": 1
}
